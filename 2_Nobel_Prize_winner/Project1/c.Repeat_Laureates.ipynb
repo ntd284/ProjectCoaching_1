{
 "cells": [
  {
   "cell_type": "code",
   "execution_count": 4,
   "id": "c15632e6",
   "metadata": {},
   "outputs": [
    {
     "name": "stdout",
     "output_type": "stream",
     "text": [
      "ComitÃ© international de la Croix Rouge (International Committee of the Red Cross)    3\n",
      "Office of the United Nations High Commissioner for Refugees (UNHCR)                   2\n",
      "John Bardeen                                                                          2\n",
      "Frederick Sanger                                                                      2\n",
      "Marie Curie, nÃ©e Sklodowska                                                          2\n",
      "                                                                                     ..\n",
      "Leland H. Hartwell                                                                    1\n",
      "Sir Norman Angell (Ralph Lane)                                                        1\n",
      "Eugenio Montale                                                                       1\n",
      "Vicente Aleixandre                                                                    1\n",
      "Aaron Ciechanover                                                                     1\n",
      "Name: full_name, Length: 904, dtype: int64\n"
     ]
    }
   ],
   "source": [
    "import matplotlib\n",
    "import matplotlib.pyplot as plt\n",
    "import numpy as np\n",
    "import seaborn as sns\n",
    "import pandas as pd\n",
    "from matplotlib.ticker import PercentFormatter\n",
    "\n",
    "matplotlib.interactive(True)\n",
    "plt.ion()\n",
    "matplotlib.is_interactive()\n",
    "\n",
    "with open('nobel.csv','r') as f:\n",
    "    Data = pd.read_csv(f)\n",
    "    count = Data['full_name'].value_counts()[Data['full_name'].value_counts()>1] \n",
    "    print(count)"
   ]
  },
  {
   "cell_type": "code",
   "execution_count": 18,
   "id": "c345e68b",
   "metadata": {},
   "outputs": [
    {
     "name": "stdout",
     "output_type": "stream",
     "text": [
      "   index  a\n",
      "0      2  3\n",
      "1      1  2\n",
      "2      3  1\n"
     ]
    }
   ],
   "source": [
    "import pandas as pd\n",
    "\n",
    "df = pd.DataFrame({'a':[1,1,2,2,2,3]})\n",
    "count = df['a'].value_counts()\n",
    "count.columns = ['unique_values  ','index']\n",
    "print(count)"
   ]
  }
 ],
 "metadata": {
  "kernelspec": {
   "display_name": "Python 3 (ipykernel)",
   "language": "python",
   "name": "python3"
  },
  "language_info": {
   "codemirror_mode": {
    "name": "ipython",
    "version": 3
   },
   "file_extension": ".py",
   "mimetype": "text/x-python",
   "name": "python",
   "nbconvert_exporter": "python",
   "pygments_lexer": "ipython3",
   "version": "3.8.10"
  }
 },
 "nbformat": 4,
 "nbformat_minor": 5
}
