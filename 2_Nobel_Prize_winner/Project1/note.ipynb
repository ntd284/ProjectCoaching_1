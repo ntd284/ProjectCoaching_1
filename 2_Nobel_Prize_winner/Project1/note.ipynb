{
 "cells": [
  {
   "cell_type": "code",
   "execution_count": 8,
   "id": "9759d445",
   "metadata": {},
   "outputs": [
    {
     "name": "stdout",
     "output_type": "stream",
     "text": [
      "<class 'pandas.core.frame.DataFrame'>\n",
      "category  decade  sex_  \n",
      "A         1980    Female    1.0\n",
      "B         1980    Female    1.0\n",
      "          1990    Female    1.0\n",
      "C         1990    Female    1.0\n",
      "Name: sex_, dtype: float64\n"
     ]
    }
   ],
   "source": [
    "import pandas as pd\n",
    "\n",
    "# create a sample dataset\n",
    "data = {'category': ['A', 'A', 'B', 'B', 'C', 'C'],\n",
    "        'decade': [1980, 1990, 1980, 1990, 1980, 1990],\n",
    "        'sex_': ['Female', 'Male', 'Female', 'Female', 'Male', 'Female']}\n",
    "df = pd.DataFrame(data)\n",
    "# print(type(df))\n",
    "\n",
    "# select only rows where 'sex_' is True\n",
    "subset = df[df['sex_'] == 'Female']\n",
    "print(type(subset))\n",
    "\n",
    "# group the subset by category and decade, and calculate normalized value counts\n",
    "physics = subset.groupby(['category', 'decade'])['sex_'].value_counts(normalize=True)\n",
    "\n",
    "# print the result\n",
    "print(physics)\n"
   ]
  },
  {
   "cell_type": "code",
   "execution_count": null,
   "id": "8c1dccef",
   "metadata": {},
   "outputs": [],
   "source": []
  }
 ],
 "metadata": {
  "kernelspec": {
   "display_name": "Python 3 (ipykernel)",
   "language": "python",
   "name": "python3"
  },
  "language_info": {
   "codemirror_mode": {
    "name": "ipython",
    "version": 3
   },
   "file_extension": ".py",
   "mimetype": "text/x-python",
   "name": "python",
   "nbconvert_exporter": "python",
   "pygments_lexer": "ipython3",
   "version": "3.9.16"
  }
 },
 "nbformat": 4,
 "nbformat_minor": 5
}
